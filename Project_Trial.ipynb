{
 "cells": [
  {
   "cell_type": "raw",
   "id": "7b380e54-7cf6-41ae-a28b-013fd2c23fb3",
   "metadata": {},
   "source": [
    "pip install internetarchive"
   ]
  },
  {
   "cell_type": "code",
   "execution_count": 56,
   "id": "b7eba358-a8e3-40d2-817d-35922a76918f",
   "metadata": {},
   "outputs": [],
   "source": [
    "from internetarchive import search_items,download\n",
    "import numpy as np\n",
    "from datetime import datetime as dt\n",
    "import random\n",
    "import os\n",
    "import glob\n",
    "cwd = os.getcwd()"
   ]
  },
  {
   "cell_type": "code",
   "execution_count": 50,
   "id": "3ec00584-32cb-4a1b-8a69-40c4b43bee40",
   "metadata": {},
   "outputs": [
    {
     "data": {
      "text/plain": [
       "2151838"
      ]
     },
     "execution_count": 50,
     "metadata": {},
     "output_type": "execute_result"
    }
   ],
   "source": [
    "items = search_items(\"(mediatype:(movies) OR mediatype:(texts)) AND date:[1990-01-01 TO 1999-12-31]\",fields=[\"date\",\"identifier\",\"language\"])\n",
    "items.num_found"
   ]
  },
  {
   "cell_type": "code",
   "execution_count": 51,
   "id": "4bf1eb06-3718-4896-a7ab-39c336b78c7a",
   "metadata": {},
   "outputs": [
    {
     "ename": "KeyError",
     "evalue": "'language'",
     "output_type": "error",
     "traceback": [
      "\u001b[1;31m---------------------------------------------------------------------------\u001b[0m",
      "\u001b[1;31mKeyError\u001b[0m                                  Traceback (most recent call last)",
      "File \u001b[1;32m<timed exec>:8\u001b[0m\n",
      "\u001b[1;31mKeyError\u001b[0m: 'language'"
     ]
    }
   ],
   "source": [
    "%%time\n",
    "array = []\n",
    "lang = []\n",
    "for i,item in enumerate(items):\n",
    "    try:\n",
    "        year = dt.strptime(item['date'],'%Y-%m-%dT%H:%M:%SZ').year\n",
    "        if(year > 1999 or year < 1990):\n",
    "            print(\"failed\")\n",
    "        elif(type(item[\"language\"])!=str):\n",
    "            print(\"failed\")\n",
    "        else:\n",
    "            array.append(item[\"identifier\"])\n",
    "            lang.append(item[\"language\"])\n",
    "    except (ValueError,TypeError):\n",
    "        continue\n",
    "    if(i>20):\n",
    "        break"
   ]
  },
  {
   "cell_type": "raw",
   "id": "3caca874-35e0-4b2e-9c95-ac4a895c053c",
   "metadata": {},
   "source": [
    "array"
   ]
  },
  {
   "cell_type": "code",
   "execution_count": 52,
   "id": "279cb8ee-1934-4171-bfff-eae026f460dd",
   "metadata": {},
   "outputs": [],
   "source": [
    "index = np.arange(len(array))\n",
    "random.shuffle(index)\n",
    "array = np.array(array)[index]\n",
    "lang = np.array(lang)[index]"
   ]
  },
  {
   "cell_type": "code",
   "execution_count": 53,
   "id": "dfab9dfd-17e0-402e-83f5-abc804011c43",
   "metadata": {},
   "outputs": [
    {
     "data": {
      "text/plain": [
       "array(['spa', 'jpn', 'spa', 'phi', 'eng', 'jpn', 'eng', 'eng', 'jpn',\n",
       "       'spa'], dtype='<U3')"
      ]
     },
     "execution_count": 53,
     "metadata": {},
     "output_type": "execute_result"
    }
   ],
   "source": [
    "lang[:10]"
   ]
  },
  {
   "cell_type": "code",
   "execution_count": 54,
   "id": "2c74e542-500e-4422-82bd-8d22dc13f32b",
   "metadata": {},
   "outputs": [
    {
     "data": {
      "text/plain": [
       "array(['0-dby-prioridad-x', '0-booby-boys-game-boy-vhs',\n",
       "       '0-dby-sw-st-huyendo-del-imperio', '0-1_20230630', '0-89178-075-0',\n",
       "       '0-clock-tower-the-first-fear-1',\n",
       "       '0-always-working-together-for-the-people', '0-89178-080-7',\n",
       "       '0-1-002-1', '0-dby-aislada-por-la-arena-en-tatooine'],\n",
       "      dtype='<U48')"
      ]
     },
     "execution_count": 54,
     "metadata": {},
     "output_type": "execute_result"
    }
   ],
   "source": [
    "array[:10]"
   ]
  },
  {
   "cell_type": "code",
   "execution_count": 63,
   "id": "c7d0e2eb-d26c-4346-986c-6ca023b2b5bd",
   "metadata": {},
   "outputs": [
    {
     "name": "stderr",
     "output_type": "stream",
     "text": [
      "0-89178-075-0:\n",
      " downloading 0-89178-075-0_djvu.txt: 147kiB [00:00, 4.98MiB/s]\n"
     ]
    },
    {
     "name": "stdout",
     "output_type": "stream",
     "text": [
      "['0-89178-075-0_djvu.txt']\n"
     ]
    },
    {
     "name": "stderr",
     "output_type": "stream",
     "text": [
      "0-always-working-together-for-the-people:\n",
      " skipping 0-always-working-together-for-the-people, no matching files found.\n"
     ]
    },
    {
     "name": "stdout",
     "output_type": "stream",
     "text": [
      "[]\n"
     ]
    },
    {
     "name": "stderr",
     "output_type": "stream",
     "text": [
      "0-89178-080-7:\n",
      " downloading 0-89178-080-7_djvu.txt: 222kiB [00:00, 2.76MiB/s]\n"
     ]
    },
    {
     "name": "stdout",
     "output_type": "stream",
     "text": [
      "['0-89178-080-7_djvu.txt']\n"
     ]
    },
    {
     "name": "stderr",
     "output_type": "stream",
     "text": [
      "0-cover-volume-13hackers-creek-journal-volume-10:\n",
      " downloading 0_Cover_Volume 13_djvu.txt: 1.06kiB [00:00, 347kiB/s]\n",
      " downloading 13-Index_djvu.txt: 46.8kiB [00:00, 10.6MiB/s]\n",
      " downloading 13-Issue 1_djvu.txt: 143kiB [00:00, 2.31MiB/s]\n",
      " downloading 13-Issue 2_djvu.txt: 233kiB [00:00, 1.23MiB/s]\n",
      " downloading 13-Issue 3_djvu.txt: 128kiB [00:00, 2.31MiB/s]\n",
      " downloading 13-Issue 4_djvu.txt: 147kiB [00:00, 4.04MiB/s]\n"
     ]
    },
    {
     "name": "stdout",
     "output_type": "stream",
     "text": [
      "['0_Cover_Volume 13_djvu.txt', '13-Index_djvu.txt', '13-Issue 1_djvu.txt', '13-Issue 2_djvu.txt', '13-Issue 3_djvu.txt', '13-Issue 4_djvu.txt']\n"
     ]
    },
    {
     "name": "stderr",
     "output_type": "stream",
     "text": [
      "0-89178-034-0:\n",
      " downloading 0-89178-034-0_djvu.txt: 284kiB [00:00, 1.52MiB/s]\n"
     ]
    },
    {
     "name": "stdout",
     "output_type": "stream",
     "text": [
      "['0-89178-034-0_djvu.txt']\n"
     ]
    },
    {
     "name": "stderr",
     "output_type": "stream",
     "text": [
      "0-89178-042-4:\n",
      " downloading 0-89178-042-4_djvu.txt: 195kiB [00:00, 2.83MiB/s]"
     ]
    },
    {
     "name": "stdout",
     "output_type": "stream",
     "text": [
      "['0-89178-042-4_djvu.txt']\n"
     ]
    },
    {
     "name": "stderr",
     "output_type": "stream",
     "text": [
      "\n"
     ]
    }
   ],
   "source": [
    "for a,l in zip(array,lang):\n",
    "    if((\"English\" in l) | (\"english\" in l) | (\"eng\" in l)):\n",
    "        # download(a,verbose=True,checksum=True,dry_run=True,glob_pattern='*txt')\n",
    "        download(a,verbose=True,checksum=True,glob_pattern='*txt')\n",
    "        pathnames = glob.glob(cwd+\"\\\\\"+a+\"\\\\*.txt\")\n",
    "        texts = glob.glob(\"*.txt\",root_dir=cwd+\"\\\\\"+a)\n",
    "        print(texts)\n",
    "        for p,t in zip(pathnames,texts):\n",
    "            os.replace(p,cwd+\"\\\\data\\\\\"+t)\n",
    "        try:\n",
    "            os.rmdir(cwd+\"\\\\\"+a)\n",
    "        except FileNotFoundError:\n",
    "            continue"
   ]
  },
  {
   "cell_type": "code",
   "execution_count": null,
   "id": "e29c02c6-7d9f-4edb-8754-abda0da9f1d2",
   "metadata": {},
   "outputs": [],
   "source": []
  }
 ],
 "metadata": {
  "kernelspec": {
   "display_name": "Python 3 (ipykernel)",
   "language": "python",
   "name": "python3"
  },
  "language_info": {
   "codemirror_mode": {
    "name": "ipython",
    "version": 3
   },
   "file_extension": ".py",
   "mimetype": "text/x-python",
   "name": "python",
   "nbconvert_exporter": "python",
   "pygments_lexer": "ipython3",
   "version": "3.12.3"
  }
 },
 "nbformat": 4,
 "nbformat_minor": 5
}
