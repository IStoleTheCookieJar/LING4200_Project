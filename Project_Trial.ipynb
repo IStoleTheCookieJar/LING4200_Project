{
 "cells": [
  {
   "cell_type": "raw",
   "id": "7b380e54-7cf6-41ae-a28b-013fd2c23fb3",
   "metadata": {},
   "source": [
    "pip install internetarchive"
   ]
  },
  {
   "cell_type": "code",
   "execution_count": 84,
   "id": "b7eba358-a8e3-40d2-817d-35922a76918f",
   "metadata": {},
   "outputs": [],
   "source": [
    "from internetarchive import search_items,download\n",
    "import numpy as np\n",
    "from datetime import datetime as dt"
   ]
  },
  {
   "cell_type": "code",
   "execution_count": 85,
   "id": "3ec00584-32cb-4a1b-8a69-40c4b43bee40",
   "metadata": {},
   "outputs": [
    {
     "data": {
      "text/plain": [
       "2151247"
      ]
     },
     "execution_count": 85,
     "metadata": {},
     "output_type": "execute_result"
    }
   ],
   "source": [
    "items = search_items(\"(mediatype:(movies) OR mediatype:(texts)) AND date:[1990-01-01 TO 1999-12-31]\",fields=[\"date\",\"identifier\"])\n",
    "items.num_found"
   ]
  },
  {
   "cell_type": "code",
   "execution_count": 92,
   "id": "4bf1eb06-3718-4896-a7ab-39c336b78c7a",
   "metadata": {},
   "outputs": [
    {
     "name": "stdout",
     "output_type": "stream",
     "text": [
      "CPU times: total: 125 ms\n",
      "Wall time: 2.78 s\n"
     ]
    }
   ],
   "source": [
    "%%time\n",
    "array = []\n",
    "for i,item in enumerate(items):\n",
    "    try:\n",
    "        year = dt.strptime(item['date'],'%Y-%m-%dT%H:%M:%SZ').year\n",
    "        if(year > 1999 or year < 1990):\n",
    "            print(\"failed\")\n",
    "        else:\n",
    "            array.append(item[\"identifier\"])\n",
    "    except (ValueError,TypeError):\n",
    "        continue\n",
    "    if(i>10):\n",
    "        break"
   ]
  },
  {
   "cell_type": "code",
   "execution_count": 93,
   "id": "9b9a9c71-86fa-4708-9891-c6b9c9cd1ea3",
   "metadata": {},
   "outputs": [
    {
     "data": {
      "text/plain": [
       "['1994-02-compute-magazine',\n",
       " '1994-02-programme',\n",
       " '1994-02_202102',\n",
       " '1994-02_Garzette',\n",
       " '1994-03',\n",
       " '1994-03-01_W5YI_Report',\n",
       " '1994-03-03-the-sun',\n",
       " '1994-03-03.NORTHWESTMISSOURIAN',\n",
       " '1994-03-08-light-out-of-darkness-exploring-the-creative-experience-poster',\n",
       " '1994-03-10-the-sun']"
      ]
     },
     "execution_count": 93,
     "metadata": {},
     "output_type": "execute_result"
    }
   ],
   "source": [
    "array[:10]"
   ]
  },
  {
   "cell_type": "code",
   "execution_count": 91,
   "id": "c7d0e2eb-d26c-4346-986c-6ca023b2b5bd",
   "metadata": {},
   "outputs": [
    {
     "name": "stderr",
     "output_type": "stream",
     "text": [
      "14thcensusofpopu623unit:\n",
      " skipping 14thcensusofpopu623unit, no matching files found.\n",
      "14thcensusofpopu624unit:\n",
      " skipping 14thcensusofpopu624unit, no matching files found.\n",
      "14thcensusofpopu625unit:\n",
      " skipping 14thcensusofpopu625unit, no matching files found.\n",
      "14thcensusofpopu626unit:\n",
      " skipping 14thcensusofpopu626unit, no matching files found.\n",
      "14thcensusofpopu627unit:\n",
      " skipping 14thcensusofpopu627unit, no matching files found.\n",
      "14thcensusofpopu628unit:\n",
      " skipping 14thcensusofpopu628unit, no matching files found.\n",
      "14thcensusofpopu629unit:\n",
      " skipping 14thcensusofpopu629unit, no matching files found.\n",
      "14thcensusofpopu630unit:\n",
      " skipping 14thcensusofpopu630unit, no matching files found.\n",
      "14thcensusofpopu631unit:\n",
      " skipping 14thcensusofpopu631unit, no matching files found.\n",
      "14thcensusofpopu632unit:\n",
      " skipping 14thcensusofpopu632unit, no matching files found.\n",
      "14thcensusofpopu633unit:\n",
      " skipping 14thcensusofpopu633unit, no matching files found.\n",
      "14thcensusofpopu634unit:\n",
      " skipping 14thcensusofpopu634unit, no matching files found.\n"
     ]
    }
   ],
   "source": [
    "for i in array:\n",
    "    download(i,verbose=True,,checksum=True,glob_pattern='*txt')"
   ]
  },
  {
   "cell_type": "code",
   "execution_count": null,
   "id": "f8412bef-d2a7-41a5-8604-9580965a3550",
   "metadata": {},
   "outputs": [],
   "source": []
  }
 ],
 "metadata": {
  "kernelspec": {
   "display_name": "Python 3 (ipykernel)",
   "language": "python",
   "name": "python3"
  },
  "language_info": {
   "codemirror_mode": {
    "name": "ipython",
    "version": 3
   },
   "file_extension": ".py",
   "mimetype": "text/x-python",
   "name": "python",
   "nbconvert_exporter": "python",
   "pygments_lexer": "ipython3",
   "version": "3.12.3"
  }
 },
 "nbformat": 4,
 "nbformat_minor": 5
}
